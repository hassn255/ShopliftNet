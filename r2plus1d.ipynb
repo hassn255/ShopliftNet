{
  "nbformat": 4,
  "nbformat_minor": 0,
  "metadata": {
    "colab": {
      "provenance": [],
      "gpuType": "T4"
    },
    "kernelspec": {
      "name": "python3",
      "display_name": "Python 3"
    },
    "language_info": {
      "name": "python"
    },
    "accelerator": "GPU"
  },
  "cells": [
    {
      "cell_type": "code",
      "execution_count": 1,
      "metadata": {
        "colab": {
          "base_uri": "https://localhost:8080/"
        },
        "id": "Xap22ffCVZg2",
        "outputId": "ec2b8a13-b026-4406-80aa-082b57f26212"
      },
      "outputs": [
        {
          "output_type": "stream",
          "name": "stdout",
          "text": [
            "Mounted at /content/drive\n"
          ]
        }
      ],
      "source": [
        "from google.colab import drive\n",
        "drive.mount('/content/drive')"
      ]
    },
    {
      "cell_type": "code",
      "source": [
        "import os\n",
        "import cv2\n",
        "import torch\n",
        "import numpy as np\n",
        "import random\n",
        "from torch.utils.data import Dataset, DataLoader, random_split\n",
        "from torchvision import transforms\n",
        "from PIL import Image\n",
        "import torch.nn as nn\n",
        "import torch.optim as optim\n",
        "from tqdm import tqdm"
      ],
      "metadata": {
        "id": "8IqiGp3PW0Li"
      },
      "execution_count": 2,
      "outputs": []
    },
    {
      "cell_type": "markdown",
      "source": [
        "# Data prepairing and preprocessing"
      ],
      "metadata": {
        "id": "iXIh4jJT1rtC"
      }
    },
    {
      "cell_type": "markdown",
      "source": [
        "## Data Object"
      ],
      "metadata": {
        "id": "P534T3qu15Xp"
      }
    },
    {
      "cell_type": "code",
      "source": [
        "# Video Dataset Definition\n",
        "\n",
        "class VideoDataset(Dataset):\n",
        "    def __init__(self, root_dir, num_frames=16, train=True):\n",
        "        self.root_dir = root_dir\n",
        "        self.classes = os.listdir(root_dir)\n",
        "        self.videos = []\n",
        "        self.num_frames = num_frames\n",
        "        self.train = train\n",
        "\n",
        "        classes = sorted(os.listdir(root_dir))\n",
        "        self.class_to_idx = {cls_name: idx for idx, cls_name in enumerate(classes)}\n",
        "\n",
        "\n",
        "        for label, class_name in enumerate(self.classes):\n",
        "            class_path = os.path.join(root_dir, class_name)\n",
        "            for file in os.listdir(class_path):\n",
        "                if file.endswith(('.mp4', '.avi', '.mov')):\n",
        "                    self.videos.append({\n",
        "                        'path': os.path.join(class_path, file),\n",
        "                        'label': label\n",
        "                    })\n",
        "\n",
        "    def __len__(self):\n",
        "        return len(self.videos)\n",
        "\n",
        "    def read_video(self, path):\n",
        "        cap = cv2.VideoCapture(path)\n",
        "        frames = []\n",
        "        while True:\n",
        "            ret, frame = cap.read()\n",
        "            if not ret:\n",
        "                break\n",
        "            frame = cv2.cvtColor(frame, cv2.COLOR_BGR2RGB)\n",
        "            frames.append(frame)\n",
        "        cap.release()\n",
        "        return frames\n",
        "\n",
        "    def sample_frames(self, frames):\n",
        "        total = len(frames)\n",
        "        if total == 0:\n",
        "            return None\n",
        "        indices = np.linspace(0, total - 1, self.num_frames, dtype=int)\n",
        "        return [frames[i] for i in indices]\n",
        "\n",
        "    def get_transform(self):\n",
        "        \"\"\"Different for train vs validation.\"\"\"\n",
        "        base = [\n",
        "            transforms.Resize((256, 256)),\n",
        "            transforms.ToTensor(),\n",
        "            transforms.Normalize(mean=[0.5, 0.5, 0.5],\n",
        "                                 std=[0.5, 0.5, 0.5])\n",
        "        ]\n",
        "\n",
        "        if not self.train:\n",
        "            return transforms.Compose(base)\n",
        "\n",
        "        # training augmentation (one per video)\n",
        "        augmentations = [\n",
        "            transforms.RandomHorizontalFlip(p=1.0),\n",
        "            transforms.ColorJitter(brightness=0.3),\n",
        "            transforms.ColorJitter(contrast=0.3),\n",
        "            transforms.RandomRotation(degrees=10),\n",
        "            None\n",
        "        ]\n",
        "        aug = random.choice(augmentations)\n",
        "        if aug is not None:\n",
        "            return transforms.Compose([aug] + base)\n",
        "        return transforms.Compose(base)\n",
        "\n",
        "    def __getitem__(self, idx):\n",
        "        video_info = self.videos[idx]\n",
        "        frames = self.read_video(video_info['path'])\n",
        "        frames = self.sample_frames(frames)\n",
        "        transform = self.get_transform()\n",
        "\n",
        "        frames = [transform(Image.fromarray(f)) for f in frames]\n",
        "        video_tensor = torch.stack(frames)  # [T, C, H, W]\n",
        "        label = torch.tensor(video_info['label'])\n",
        "        return video_tensor, label\n"
      ],
      "metadata": {
        "id": "L-Z38Bc-Wwbn"
      },
      "execution_count": 3,
      "outputs": []
    },
    {
      "cell_type": "markdown",
      "source": [
        "## Splitting & Building the data loader"
      ],
      "metadata": {
        "id": "kQfzxfvK18Ze"
      }
    },
    {
      "cell_type": "code",
      "source": [
        "#  Dataset Split (Train / Val)\n",
        "train_dataset = VideoDataset(root_dir=\"/content/drive/MyDrive/project/clean Shop Dataset/train\", num_frames=16, train=True)\n",
        "val_dataset = VideoDataset(root_dir=\"/content/drive/MyDrive/project/clean Shop Dataset/validation\", num_frames=16, train=False)\n",
        "\n",
        "train_loader = DataLoader(train_dataset, batch_size=2, shuffle=True, num_workers=2)\n",
        "val_loader = DataLoader(val_dataset, batch_size=2, shuffle=False, num_workers=2)\n",
        "\n",
        "print(f\"Train: {len(train_dataset)} | Val: {len(val_dataset)}\")\n"
      ],
      "metadata": {
        "colab": {
          "base_uri": "https://localhost:8080/"
        },
        "id": "AZDVaiQOb4eA",
        "outputId": "51478bc4-81f8-4921-836b-ebdf135b3c24"
      },
      "execution_count": 17,
      "outputs": [
        {
          "output_type": "stream",
          "name": "stdout",
          "text": [
            "Train: 420 | Val: 106\n"
          ]
        }
      ]
    },
    {
      "cell_type": "markdown",
      "source": [
        "# Pretrained Model"
      ],
      "metadata": {
        "id": "ISWMDOSx1JPG"
      }
    },
    {
      "cell_type": "markdown",
      "source": [
        "## Model building"
      ],
      "metadata": {
        "id": "aU2vge4H1RY_"
      }
    },
    {
      "cell_type": "code",
      "source": [
        "from torchvision.models.video import r2plus1d_18\n",
        "model = r2plus1d_18(weights = 'KINETICS400_V1')\n",
        "num_features = model.fc.in_features\n",
        "model.fc = nn.Linear(num_features, 1)"
      ],
      "metadata": {
        "id": "O6kYh-Bu-DVZ"
      },
      "execution_count": 18,
      "outputs": []
    },
    {
      "cell_type": "markdown",
      "source": [
        "## Training loop function"
      ],
      "metadata": {
        "id": "ohuT_tTR1YAl"
      }
    },
    {
      "cell_type": "code",
      "source": [
        "device = torch.device(\"cuda\" if torch.cuda.is_available() else \"cpu\")\n",
        "print(device)"
      ],
      "metadata": {
        "colab": {
          "base_uri": "https://localhost:8080/"
        },
        "id": "MRmZpBvEUC7a",
        "outputId": "b17a7d6d-f192-48ee-9298-953bc8389e53"
      },
      "execution_count": 19,
      "outputs": [
        {
          "output_type": "stream",
          "name": "stdout",
          "text": [
            "cuda\n"
          ]
        }
      ]
    },
    {
      "cell_type": "code",
      "source": [
        "# Training Loop\n",
        "criterion = nn.BCEWithLogitsLoss()\n",
        "optimizer = optim.Adam(model.parameters(), lr=1e-3)\n",
        "num_epochs = 5\n",
        "model.to(device)\n",
        "def train_model(\n",
        "    model,\n",
        "    train_loader,\n",
        "    val_loader,\n",
        "    criterion,\n",
        "    optimizer,\n",
        "    num_epochs,\n",
        "    checkpoint_path=\"/content/drive/MyDrive/project/Checkpoints/best_R(2+1)D_model.pth\"\n",
        "):\n",
        "    best_val_loss = float(\"inf\")\n",
        "\n",
        "\n",
        "    history = {\n",
        "        \"train_loss\": [],\n",
        "        \"val_loss\": [],\n",
        "        \"train_acc\": [],\n",
        "        \"val_acc\": []\n",
        "    }\n",
        "    for epoch in range(num_epochs):\n",
        "        print(f\"\\nEpoch {epoch+1}/{num_epochs}\")\n",
        "        print(\"-\" * 30)\n",
        "\n",
        "        # ---- TRAIN ----\n",
        "        model.train()\n",
        "        running_loss = 0.0\n",
        "        running_corrects = 0\n",
        "\n",
        "        for videos, labels in train_loader:\n",
        "            videos = videos.permute(0, 2, 1, 3, 4)\n",
        "            videos = videos.to(device)\n",
        "            labels = labels.float().to(device)\n",
        "            optimizer.zero_grad()\n",
        "            outputs = model(videos)\n",
        "            outputs = outputs.view(-1)\n",
        "            loss = criterion(outputs, labels)\n",
        "\n",
        "            preds = (torch.sigmoid(outputs) > 0.5).long()\n",
        "            running_corrects += torch.sum(preds == labels.long())\n",
        "            running_loss += loss.item() * videos.size(0)\n",
        "\n",
        "            loss.backward()\n",
        "            optimizer.step()\n",
        "\n",
        "        epoch_loss = running_loss / len(train_loader.dataset)\n",
        "        epoch_acc = running_corrects.double() / len(train_loader.dataset)\n",
        "\n",
        "        print(f\"Train Loss: {epoch_loss:.4f}  Acc: {epoch_acc:.4f}\")\n",
        "\n",
        "        # ---- VALIDATION ----\n",
        "        model.eval()\n",
        "        val_loss = 0.0\n",
        "        val_corrects = 0\n",
        "\n",
        "        with torch.no_grad():\n",
        "            for videos, labels in val_loader:\n",
        "                videos = videos.permute(0, 2, 1, 3, 4)\n",
        "                labels = labels.float().to(device)\n",
        "                videos = videos.to(device)\n",
        "\n",
        "                outputs = model(videos)\n",
        "                outputs = outputs.view(-1)\n",
        "                loss = criterion(outputs, labels)\n",
        "\n",
        "                preds = (torch.sigmoid(outputs) > 0.5).long()\n",
        "                val_corrects += torch.sum(preds == labels.long())\n",
        "                val_loss += loss.item() * videos.size(0)\n",
        "\n",
        "        val_loss /= len(val_loader.dataset)\n",
        "        val_acc = val_corrects.double() / len(val_loader.dataset)\n",
        "\n",
        "        # ---- STORE RESULTS ----\n",
        "        history[\"train_loss\"].append(epoch_loss)\n",
        "        history[\"val_loss\"].append(val_loss)\n",
        "        history[\"train_acc\"].append(epoch_acc.item())\n",
        "        history[\"val_acc\"].append(val_acc.item())\n",
        "\n",
        "        print(f\"Train Loss: {epoch_loss:.4f} | Acc: {epoch_acc:.4f}\")\n",
        "        print(f\"Val   Loss: {val_loss:.4f} | Acc: {val_acc:.4f}\")\n",
        "        # ---- SAVE CHECKPOINT ----\n",
        "        if val_loss < best_val_loss:\n",
        "            best_val_loss = val_loss\n",
        "            os.makedirs(os.path.dirname(checkpoint_path), exist_ok=True)\n",
        "            torch.save(model.state_dict(), checkpoint_path)\n",
        "            print(f\"✅ Best model updated and saved at: {checkpoint_path}\")\n",
        "\n",
        "    print(\"\\nTraining complete.\")\n",
        "    print(f\"Lowest Val Loss: {best_val_loss:.4f}\")\n",
        "    return model, history\n"
      ],
      "metadata": {
        "id": "r1ARJ2JMg0-m"
      },
      "execution_count": 20,
      "outputs": []
    },
    {
      "cell_type": "markdown",
      "source": [
        "## Training"
      ],
      "metadata": {
        "id": "CTWuxZ-b1kzZ"
      }
    },
    {
      "cell_type": "code",
      "source": [
        "model, history0 = train_model(\n",
        "    model,\n",
        "    train_loader,\n",
        "    val_loader,\n",
        "    criterion,\n",
        "    optimizer,\n",
        "    num_epochs\n",
        ")"
      ],
      "metadata": {
        "id": "aDSCccoI-QPR",
        "colab": {
          "base_uri": "https://localhost:8080/"
        },
        "outputId": "741ec198-9ea0-4ddb-a527-70d6335bd782"
      },
      "execution_count": 21,
      "outputs": [
        {
          "output_type": "stream",
          "name": "stdout",
          "text": [
            "\n",
            "Epoch 1/5\n",
            "------------------------------\n",
            "Train Loss: 0.7120  Acc: 0.5571\n",
            "Train Loss: 0.7120 | Acc: 0.5571\n",
            "Val   Loss: 0.6812 | Acc: 0.5283\n",
            "✅ Best model updated and saved at: /content/drive/MyDrive/project/Checkpoints/best_R(2+1)D_model.pth\n",
            "\n",
            "Epoch 2/5\n",
            "------------------------------\n",
            "Train Loss: 0.6809  Acc: 0.5810\n",
            "Train Loss: 0.6809 | Acc: 0.5810\n",
            "Val   Loss: 1.1252 | Acc: 0.5283\n",
            "\n",
            "Epoch 3/5\n",
            "------------------------------\n",
            "Train Loss: 0.6830  Acc: 0.5667\n",
            "Train Loss: 0.6830 | Acc: 0.5667\n",
            "Val   Loss: 0.7144 | Acc: 0.4717\n",
            "\n",
            "Epoch 4/5\n",
            "------------------------------\n",
            "Train Loss: 0.6786  Acc: 0.5857\n",
            "Train Loss: 0.6786 | Acc: 0.5857\n",
            "Val   Loss: 0.7045 | Acc: 0.4717\n",
            "\n",
            "Epoch 5/5\n",
            "------------------------------\n",
            "Train Loss: 0.6747  Acc: 0.6095\n",
            "Train Loss: 0.6747 | Acc: 0.6095\n",
            "Val   Loss: 0.6767 | Acc: 0.6698\n",
            "✅ Best model updated and saved at: /content/drive/MyDrive/project/Checkpoints/best_R(2+1)D_model.pth\n",
            "\n",
            "Training complete.\n",
            "Lowest Val Loss: 0.6767\n"
          ]
        }
      ]
    },
    {
      "cell_type": "code",
      "source": [
        "model, history1 = train_model(\n",
        "    model,\n",
        "    train_loader,\n",
        "    val_loader,\n",
        "    criterion,\n",
        "    optimizer,\n",
        "    num_epochs\n",
        ")"
      ],
      "metadata": {
        "colab": {
          "base_uri": "https://localhost:8080/"
        },
        "id": "kCYMIZ6kYkUd",
        "outputId": "4cf7af8d-54b6-4f93-f06b-27aba75d5971"
      },
      "execution_count": 24,
      "outputs": [
        {
          "output_type": "stream",
          "name": "stdout",
          "text": [
            "\n",
            "Epoch 1/5\n",
            "------------------------------\n",
            "Train Loss: 0.6693  Acc: 0.6167\n",
            "Train Loss: 0.6693 | Acc: 0.6167\n",
            "Val   Loss: 0.6135 | Acc: 0.7830\n",
            "✅ Best model updated and saved at: /content/drive/MyDrive/project/Checkpoints/best_R(2+1)D_model.pth\n",
            "\n",
            "Epoch 2/5\n",
            "------------------------------\n",
            "Train Loss: 0.6579  Acc: 0.6286\n",
            "Train Loss: 0.6579 | Acc: 0.6286\n",
            "Val   Loss: 0.5684 | Acc: 0.7642\n",
            "✅ Best model updated and saved at: /content/drive/MyDrive/project/Checkpoints/best_R(2+1)D_model.pth\n",
            "\n",
            "Epoch 3/5\n",
            "------------------------------\n",
            "Train Loss: 0.6661  Acc: 0.6119\n",
            "Train Loss: 0.6661 | Acc: 0.6119\n",
            "Val   Loss: 0.5640 | Acc: 0.8208\n",
            "✅ Best model updated and saved at: /content/drive/MyDrive/project/Checkpoints/best_R(2+1)D_model.pth\n",
            "\n",
            "Epoch 4/5\n",
            "------------------------------\n",
            "Train Loss: 0.6541  Acc: 0.6000\n",
            "Train Loss: 0.6541 | Acc: 0.6000\n",
            "Val   Loss: 0.8131 | Acc: 0.7358\n",
            "\n",
            "Epoch 5/5\n",
            "------------------------------\n",
            "Train Loss: 0.6261  Acc: 0.6714\n",
            "Train Loss: 0.6261 | Acc: 0.6714\n",
            "Val   Loss: 0.5750 | Acc: 0.7830\n",
            "\n",
            "Training complete.\n",
            "Lowest Val Loss: 0.5640\n"
          ]
        }
      ]
    },
    {
      "cell_type": "code",
      "source": [
        "optimizer = optim.Adam(model.parameters(), lr=1e-4)  # lowering learning rate\n",
        "\n",
        "model, history2 = train_model(\n",
        "    model,\n",
        "    train_loader,\n",
        "    val_loader,\n",
        "    criterion,\n",
        "    optimizer,\n",
        "    num_epochs,\n",
        "    checkpoint_path=\"/content/drive/MyDrive/project/Checkpoints/best_R(2+1)D_model2.pth\"\n",
        ")"
      ],
      "metadata": {
        "colab": {
          "base_uri": "https://localhost:8080/"
        },
        "id": "oD-fo1YYhP5j",
        "outputId": "c0d226ec-456e-4747-cc44-77ce27455181"
      },
      "execution_count": 25,
      "outputs": [
        {
          "output_type": "stream",
          "name": "stdout",
          "text": [
            "\n",
            "Epoch 1/5\n",
            "------------------------------\n",
            "Train Loss: 0.5981  Acc: 0.7048\n",
            "Train Loss: 0.5981 | Acc: 0.7048\n",
            "Val   Loss: 0.5019 | Acc: 0.8208\n",
            "✅ Best model updated and saved at: /content/drive/MyDrive/project/Checkpoints/best_R(2+1)D_model2.pth\n",
            "\n",
            "Epoch 2/5\n",
            "------------------------------\n",
            "Train Loss: 0.5848  Acc: 0.7262\n",
            "Train Loss: 0.5848 | Acc: 0.7262\n",
            "Val   Loss: 0.4954 | Acc: 0.8302\n",
            "✅ Best model updated and saved at: /content/drive/MyDrive/project/Checkpoints/best_R(2+1)D_model2.pth\n",
            "\n",
            "Epoch 3/5\n",
            "------------------------------\n",
            "Train Loss: 0.5811  Acc: 0.7262\n",
            "Train Loss: 0.5811 | Acc: 0.7262\n",
            "Val   Loss: 0.4602 | Acc: 0.8302\n",
            "✅ Best model updated and saved at: /content/drive/MyDrive/project/Checkpoints/best_R(2+1)D_model2.pth\n",
            "\n",
            "Epoch 4/5\n",
            "------------------------------\n",
            "Train Loss: 0.5454  Acc: 0.7643\n",
            "Train Loss: 0.5454 | Acc: 0.7643\n",
            "Val   Loss: 0.4138 | Acc: 0.8396\n",
            "✅ Best model updated and saved at: /content/drive/MyDrive/project/Checkpoints/best_R(2+1)D_model2.pth\n",
            "\n",
            "Epoch 5/5\n",
            "------------------------------\n",
            "Train Loss: 0.5115  Acc: 0.7714\n",
            "Train Loss: 0.5115 | Acc: 0.7714\n",
            "Val   Loss: 0.3580 | Acc: 0.8962\n",
            "✅ Best model updated and saved at: /content/drive/MyDrive/project/Checkpoints/best_R(2+1)D_model2.pth\n",
            "\n",
            "Training complete.\n",
            "Lowest Val Loss: 0.3580\n"
          ]
        }
      ]
    },
    {
      "cell_type": "code",
      "source": [
        "model, history3 = train_model(\n",
        "    model,\n",
        "    train_loader,\n",
        "    val_loader,\n",
        "    criterion,\n",
        "    optimizer,\n",
        "    num_epochs,\n",
        "    checkpoint_path=\"/content/drive/MyDrive/project/Checkpoints/best_R(2+1)D_model3.pth\"\n",
        ")"
      ],
      "metadata": {
        "colab": {
          "base_uri": "https://localhost:8080/"
        },
        "id": "Pc2Kj5r6rX_f",
        "outputId": "dea545c0-d884-424b-f4ff-8b939699e88d"
      },
      "execution_count": 26,
      "outputs": [
        {
          "output_type": "stream",
          "name": "stdout",
          "text": [
            "\n",
            "Epoch 1/5\n",
            "------------------------------\n",
            "Train Loss: 0.5051  Acc: 0.7738\n",
            "Train Loss: 0.5051 | Acc: 0.7738\n",
            "Val   Loss: 0.3435 | Acc: 0.8396\n",
            "✅ Best model updated and saved at: /content/drive/MyDrive/project/Checkpoints/best_R(2+1)D_model3.pth\n",
            "\n",
            "Epoch 2/5\n",
            "------------------------------\n",
            "Train Loss: 0.5028  Acc: 0.7738\n",
            "Train Loss: 0.5028 | Acc: 0.7738\n",
            "Val   Loss: 0.2498 | Acc: 0.9340\n",
            "✅ Best model updated and saved at: /content/drive/MyDrive/project/Checkpoints/best_R(2+1)D_model3.pth\n",
            "\n",
            "Epoch 3/5\n",
            "------------------------------\n",
            "Train Loss: 0.4544  Acc: 0.8000\n",
            "Train Loss: 0.4544 | Acc: 0.8000\n",
            "Val   Loss: 0.2383 | Acc: 0.9623\n",
            "✅ Best model updated and saved at: /content/drive/MyDrive/project/Checkpoints/best_R(2+1)D_model3.pth\n",
            "\n",
            "Epoch 4/5\n",
            "------------------------------\n",
            "Train Loss: 0.4095  Acc: 0.8452\n",
            "Train Loss: 0.4095 | Acc: 0.8452\n",
            "Val   Loss: 0.2324 | Acc: 0.9434\n",
            "✅ Best model updated and saved at: /content/drive/MyDrive/project/Checkpoints/best_R(2+1)D_model3.pth\n",
            "\n",
            "Epoch 5/5\n",
            "------------------------------\n",
            "Train Loss: 0.4202  Acc: 0.8452\n",
            "Train Loss: 0.4202 | Acc: 0.8452\n",
            "Val   Loss: 0.2343 | Acc: 0.9623\n",
            "\n",
            "Training complete.\n",
            "Lowest Val Loss: 0.2324\n"
          ]
        }
      ]
    },
    {
      "cell_type": "markdown",
      "source": [
        "# Evaluation"
      ],
      "metadata": {
        "id": "S5j3N7JN-UH0"
      }
    },
    {
      "cell_type": "markdown",
      "source": [
        "## Loading best model"
      ],
      "metadata": {
        "id": "GWhACzMPm05Z"
      }
    },
    {
      "cell_type": "code",
      "source": [
        "best_model = model\n",
        "best_model.load_state_dict(torch.load(\"/content/drive/MyDrive/project/Checkpoints/best_R(2+1)D_model3.pth\"))\n",
        "best_model.eval()\n",
        "best_model.to(device)"
      ],
      "metadata": {
        "colab": {
          "base_uri": "https://localhost:8080/"
        },
        "id": "YX9Ils8Wl4d4",
        "outputId": "fca93b44-39ba-4a19-e967-7dc871010770"
      },
      "execution_count": 27,
      "outputs": [
        {
          "output_type": "execute_result",
          "data": {
            "text/plain": [
              "VideoResNet(\n",
              "  (stem): R2Plus1dStem(\n",
              "    (0): Conv3d(3, 45, kernel_size=(1, 7, 7), stride=(1, 2, 2), padding=(0, 3, 3), bias=False)\n",
              "    (1): BatchNorm3d(45, eps=1e-05, momentum=0.1, affine=True, track_running_stats=True)\n",
              "    (2): ReLU(inplace=True)\n",
              "    (3): Conv3d(45, 64, kernel_size=(3, 1, 1), stride=(1, 1, 1), padding=(1, 0, 0), bias=False)\n",
              "    (4): BatchNorm3d(64, eps=1e-05, momentum=0.1, affine=True, track_running_stats=True)\n",
              "    (5): ReLU(inplace=True)\n",
              "  )\n",
              "  (layer1): Sequential(\n",
              "    (0): BasicBlock(\n",
              "      (conv1): Sequential(\n",
              "        (0): Conv2Plus1D(\n",
              "          (0): Conv3d(64, 144, kernel_size=(1, 3, 3), stride=(1, 1, 1), padding=(0, 1, 1), bias=False)\n",
              "          (1): BatchNorm3d(144, eps=1e-05, momentum=0.1, affine=True, track_running_stats=True)\n",
              "          (2): ReLU(inplace=True)\n",
              "          (3): Conv3d(144, 64, kernel_size=(3, 1, 1), stride=(1, 1, 1), padding=(1, 0, 0), bias=False)\n",
              "        )\n",
              "        (1): BatchNorm3d(64, eps=1e-05, momentum=0.1, affine=True, track_running_stats=True)\n",
              "        (2): ReLU(inplace=True)\n",
              "      )\n",
              "      (conv2): Sequential(\n",
              "        (0): Conv2Plus1D(\n",
              "          (0): Conv3d(64, 144, kernel_size=(1, 3, 3), stride=(1, 1, 1), padding=(0, 1, 1), bias=False)\n",
              "          (1): BatchNorm3d(144, eps=1e-05, momentum=0.1, affine=True, track_running_stats=True)\n",
              "          (2): ReLU(inplace=True)\n",
              "          (3): Conv3d(144, 64, kernel_size=(3, 1, 1), stride=(1, 1, 1), padding=(1, 0, 0), bias=False)\n",
              "        )\n",
              "        (1): BatchNorm3d(64, eps=1e-05, momentum=0.1, affine=True, track_running_stats=True)\n",
              "      )\n",
              "      (relu): ReLU(inplace=True)\n",
              "    )\n",
              "    (1): BasicBlock(\n",
              "      (conv1): Sequential(\n",
              "        (0): Conv2Plus1D(\n",
              "          (0): Conv3d(64, 144, kernel_size=(1, 3, 3), stride=(1, 1, 1), padding=(0, 1, 1), bias=False)\n",
              "          (1): BatchNorm3d(144, eps=1e-05, momentum=0.1, affine=True, track_running_stats=True)\n",
              "          (2): ReLU(inplace=True)\n",
              "          (3): Conv3d(144, 64, kernel_size=(3, 1, 1), stride=(1, 1, 1), padding=(1, 0, 0), bias=False)\n",
              "        )\n",
              "        (1): BatchNorm3d(64, eps=1e-05, momentum=0.1, affine=True, track_running_stats=True)\n",
              "        (2): ReLU(inplace=True)\n",
              "      )\n",
              "      (conv2): Sequential(\n",
              "        (0): Conv2Plus1D(\n",
              "          (0): Conv3d(64, 144, kernel_size=(1, 3, 3), stride=(1, 1, 1), padding=(0, 1, 1), bias=False)\n",
              "          (1): BatchNorm3d(144, eps=1e-05, momentum=0.1, affine=True, track_running_stats=True)\n",
              "          (2): ReLU(inplace=True)\n",
              "          (3): Conv3d(144, 64, kernel_size=(3, 1, 1), stride=(1, 1, 1), padding=(1, 0, 0), bias=False)\n",
              "        )\n",
              "        (1): BatchNorm3d(64, eps=1e-05, momentum=0.1, affine=True, track_running_stats=True)\n",
              "      )\n",
              "      (relu): ReLU(inplace=True)\n",
              "    )\n",
              "  )\n",
              "  (layer2): Sequential(\n",
              "    (0): BasicBlock(\n",
              "      (conv1): Sequential(\n",
              "        (0): Conv2Plus1D(\n",
              "          (0): Conv3d(64, 230, kernel_size=(1, 3, 3), stride=(1, 2, 2), padding=(0, 1, 1), bias=False)\n",
              "          (1): BatchNorm3d(230, eps=1e-05, momentum=0.1, affine=True, track_running_stats=True)\n",
              "          (2): ReLU(inplace=True)\n",
              "          (3): Conv3d(230, 128, kernel_size=(3, 1, 1), stride=(2, 1, 1), padding=(1, 0, 0), bias=False)\n",
              "        )\n",
              "        (1): BatchNorm3d(128, eps=1e-05, momentum=0.1, affine=True, track_running_stats=True)\n",
              "        (2): ReLU(inplace=True)\n",
              "      )\n",
              "      (conv2): Sequential(\n",
              "        (0): Conv2Plus1D(\n",
              "          (0): Conv3d(128, 230, kernel_size=(1, 3, 3), stride=(1, 1, 1), padding=(0, 1, 1), bias=False)\n",
              "          (1): BatchNorm3d(230, eps=1e-05, momentum=0.1, affine=True, track_running_stats=True)\n",
              "          (2): ReLU(inplace=True)\n",
              "          (3): Conv3d(230, 128, kernel_size=(3, 1, 1), stride=(1, 1, 1), padding=(1, 0, 0), bias=False)\n",
              "        )\n",
              "        (1): BatchNorm3d(128, eps=1e-05, momentum=0.1, affine=True, track_running_stats=True)\n",
              "      )\n",
              "      (relu): ReLU(inplace=True)\n",
              "      (downsample): Sequential(\n",
              "        (0): Conv3d(64, 128, kernel_size=(1, 1, 1), stride=(2, 2, 2), bias=False)\n",
              "        (1): BatchNorm3d(128, eps=1e-05, momentum=0.1, affine=True, track_running_stats=True)\n",
              "      )\n",
              "    )\n",
              "    (1): BasicBlock(\n",
              "      (conv1): Sequential(\n",
              "        (0): Conv2Plus1D(\n",
              "          (0): Conv3d(128, 288, kernel_size=(1, 3, 3), stride=(1, 1, 1), padding=(0, 1, 1), bias=False)\n",
              "          (1): BatchNorm3d(288, eps=1e-05, momentum=0.1, affine=True, track_running_stats=True)\n",
              "          (2): ReLU(inplace=True)\n",
              "          (3): Conv3d(288, 128, kernel_size=(3, 1, 1), stride=(1, 1, 1), padding=(1, 0, 0), bias=False)\n",
              "        )\n",
              "        (1): BatchNorm3d(128, eps=1e-05, momentum=0.1, affine=True, track_running_stats=True)\n",
              "        (2): ReLU(inplace=True)\n",
              "      )\n",
              "      (conv2): Sequential(\n",
              "        (0): Conv2Plus1D(\n",
              "          (0): Conv3d(128, 288, kernel_size=(1, 3, 3), stride=(1, 1, 1), padding=(0, 1, 1), bias=False)\n",
              "          (1): BatchNorm3d(288, eps=1e-05, momentum=0.1, affine=True, track_running_stats=True)\n",
              "          (2): ReLU(inplace=True)\n",
              "          (3): Conv3d(288, 128, kernel_size=(3, 1, 1), stride=(1, 1, 1), padding=(1, 0, 0), bias=False)\n",
              "        )\n",
              "        (1): BatchNorm3d(128, eps=1e-05, momentum=0.1, affine=True, track_running_stats=True)\n",
              "      )\n",
              "      (relu): ReLU(inplace=True)\n",
              "    )\n",
              "  )\n",
              "  (layer3): Sequential(\n",
              "    (0): BasicBlock(\n",
              "      (conv1): Sequential(\n",
              "        (0): Conv2Plus1D(\n",
              "          (0): Conv3d(128, 460, kernel_size=(1, 3, 3), stride=(1, 2, 2), padding=(0, 1, 1), bias=False)\n",
              "          (1): BatchNorm3d(460, eps=1e-05, momentum=0.1, affine=True, track_running_stats=True)\n",
              "          (2): ReLU(inplace=True)\n",
              "          (3): Conv3d(460, 256, kernel_size=(3, 1, 1), stride=(2, 1, 1), padding=(1, 0, 0), bias=False)\n",
              "        )\n",
              "        (1): BatchNorm3d(256, eps=1e-05, momentum=0.1, affine=True, track_running_stats=True)\n",
              "        (2): ReLU(inplace=True)\n",
              "      )\n",
              "      (conv2): Sequential(\n",
              "        (0): Conv2Plus1D(\n",
              "          (0): Conv3d(256, 460, kernel_size=(1, 3, 3), stride=(1, 1, 1), padding=(0, 1, 1), bias=False)\n",
              "          (1): BatchNorm3d(460, eps=1e-05, momentum=0.1, affine=True, track_running_stats=True)\n",
              "          (2): ReLU(inplace=True)\n",
              "          (3): Conv3d(460, 256, kernel_size=(3, 1, 1), stride=(1, 1, 1), padding=(1, 0, 0), bias=False)\n",
              "        )\n",
              "        (1): BatchNorm3d(256, eps=1e-05, momentum=0.1, affine=True, track_running_stats=True)\n",
              "      )\n",
              "      (relu): ReLU(inplace=True)\n",
              "      (downsample): Sequential(\n",
              "        (0): Conv3d(128, 256, kernel_size=(1, 1, 1), stride=(2, 2, 2), bias=False)\n",
              "        (1): BatchNorm3d(256, eps=1e-05, momentum=0.1, affine=True, track_running_stats=True)\n",
              "      )\n",
              "    )\n",
              "    (1): BasicBlock(\n",
              "      (conv1): Sequential(\n",
              "        (0): Conv2Plus1D(\n",
              "          (0): Conv3d(256, 576, kernel_size=(1, 3, 3), stride=(1, 1, 1), padding=(0, 1, 1), bias=False)\n",
              "          (1): BatchNorm3d(576, eps=1e-05, momentum=0.1, affine=True, track_running_stats=True)\n",
              "          (2): ReLU(inplace=True)\n",
              "          (3): Conv3d(576, 256, kernel_size=(3, 1, 1), stride=(1, 1, 1), padding=(1, 0, 0), bias=False)\n",
              "        )\n",
              "        (1): BatchNorm3d(256, eps=1e-05, momentum=0.1, affine=True, track_running_stats=True)\n",
              "        (2): ReLU(inplace=True)\n",
              "      )\n",
              "      (conv2): Sequential(\n",
              "        (0): Conv2Plus1D(\n",
              "          (0): Conv3d(256, 576, kernel_size=(1, 3, 3), stride=(1, 1, 1), padding=(0, 1, 1), bias=False)\n",
              "          (1): BatchNorm3d(576, eps=1e-05, momentum=0.1, affine=True, track_running_stats=True)\n",
              "          (2): ReLU(inplace=True)\n",
              "          (3): Conv3d(576, 256, kernel_size=(3, 1, 1), stride=(1, 1, 1), padding=(1, 0, 0), bias=False)\n",
              "        )\n",
              "        (1): BatchNorm3d(256, eps=1e-05, momentum=0.1, affine=True, track_running_stats=True)\n",
              "      )\n",
              "      (relu): ReLU(inplace=True)\n",
              "    )\n",
              "  )\n",
              "  (layer4): Sequential(\n",
              "    (0): BasicBlock(\n",
              "      (conv1): Sequential(\n",
              "        (0): Conv2Plus1D(\n",
              "          (0): Conv3d(256, 921, kernel_size=(1, 3, 3), stride=(1, 2, 2), padding=(0, 1, 1), bias=False)\n",
              "          (1): BatchNorm3d(921, eps=1e-05, momentum=0.1, affine=True, track_running_stats=True)\n",
              "          (2): ReLU(inplace=True)\n",
              "          (3): Conv3d(921, 512, kernel_size=(3, 1, 1), stride=(2, 1, 1), padding=(1, 0, 0), bias=False)\n",
              "        )\n",
              "        (1): BatchNorm3d(512, eps=1e-05, momentum=0.1, affine=True, track_running_stats=True)\n",
              "        (2): ReLU(inplace=True)\n",
              "      )\n",
              "      (conv2): Sequential(\n",
              "        (0): Conv2Plus1D(\n",
              "          (0): Conv3d(512, 921, kernel_size=(1, 3, 3), stride=(1, 1, 1), padding=(0, 1, 1), bias=False)\n",
              "          (1): BatchNorm3d(921, eps=1e-05, momentum=0.1, affine=True, track_running_stats=True)\n",
              "          (2): ReLU(inplace=True)\n",
              "          (3): Conv3d(921, 512, kernel_size=(3, 1, 1), stride=(1, 1, 1), padding=(1, 0, 0), bias=False)\n",
              "        )\n",
              "        (1): BatchNorm3d(512, eps=1e-05, momentum=0.1, affine=True, track_running_stats=True)\n",
              "      )\n",
              "      (relu): ReLU(inplace=True)\n",
              "      (downsample): Sequential(\n",
              "        (0): Conv3d(256, 512, kernel_size=(1, 1, 1), stride=(2, 2, 2), bias=False)\n",
              "        (1): BatchNorm3d(512, eps=1e-05, momentum=0.1, affine=True, track_running_stats=True)\n",
              "      )\n",
              "    )\n",
              "    (1): BasicBlock(\n",
              "      (conv1): Sequential(\n",
              "        (0): Conv2Plus1D(\n",
              "          (0): Conv3d(512, 1152, kernel_size=(1, 3, 3), stride=(1, 1, 1), padding=(0, 1, 1), bias=False)\n",
              "          (1): BatchNorm3d(1152, eps=1e-05, momentum=0.1, affine=True, track_running_stats=True)\n",
              "          (2): ReLU(inplace=True)\n",
              "          (3): Conv3d(1152, 512, kernel_size=(3, 1, 1), stride=(1, 1, 1), padding=(1, 0, 0), bias=False)\n",
              "        )\n",
              "        (1): BatchNorm3d(512, eps=1e-05, momentum=0.1, affine=True, track_running_stats=True)\n",
              "        (2): ReLU(inplace=True)\n",
              "      )\n",
              "      (conv2): Sequential(\n",
              "        (0): Conv2Plus1D(\n",
              "          (0): Conv3d(512, 1152, kernel_size=(1, 3, 3), stride=(1, 1, 1), padding=(0, 1, 1), bias=False)\n",
              "          (1): BatchNorm3d(1152, eps=1e-05, momentum=0.1, affine=True, track_running_stats=True)\n",
              "          (2): ReLU(inplace=True)\n",
              "          (3): Conv3d(1152, 512, kernel_size=(3, 1, 1), stride=(1, 1, 1), padding=(1, 0, 0), bias=False)\n",
              "        )\n",
              "        (1): BatchNorm3d(512, eps=1e-05, momentum=0.1, affine=True, track_running_stats=True)\n",
              "      )\n",
              "      (relu): ReLU(inplace=True)\n",
              "    )\n",
              "  )\n",
              "  (avgpool): AdaptiveAvgPool3d(output_size=(1, 1, 1))\n",
              "  (fc): Linear(in_features=512, out_features=1, bias=True)\n",
              ")"
            ]
          },
          "metadata": {},
          "execution_count": 27
        }
      ]
    },
    {
      "cell_type": "markdown",
      "source": [
        "## F1_score, Precision, Recall and Accuracy"
      ],
      "metadata": {
        "id": "bUvjKbWNm7RI"
      }
    },
    {
      "cell_type": "code",
      "source": [
        "from sklearn.metrics import (\n",
        "    accuracy_score,\n",
        "    precision_score,\n",
        "    recall_score,\n",
        "    f1_score,\n",
        "    confusion_matrix,\n",
        "    classification_report\n",
        ")\n",
        "\n",
        "all_preds = []\n",
        "all_labels = []\n",
        "\n",
        "with torch.no_grad():\n",
        "    for videos, labels in val_loader:\n",
        "        videos = videos.permute(0, 2, 1, 3, 4)\n",
        "        videos, labels = videos.to(device), labels.to(device)\n",
        "        outputs = model(videos)\n",
        "        outputs = outputs.view(-1)\n",
        "        preds = (torch.sigmoid(outputs) > 0.5).long()\n",
        "        all_preds.extend(preds.cpu().numpy())\n",
        "        all_labels.extend(labels.cpu().numpy())\n",
        "\n",
        "# 5️⃣ Compute metrics\n",
        "accuracy = accuracy_score(all_labels, all_preds)\n",
        "precision = precision_score(all_labels, all_preds)\n",
        "recall = recall_score(all_labels, all_preds)\n",
        "f1 = f1_score(all_labels, all_preds)\n",
        "\n",
        "print(f\"Validation Accuracy: {accuracy:.4f}\")\n",
        "print(f\"Precision: {precision:.4f}\")\n",
        "print(f\"Recall: {recall:.4f}\")\n",
        "print(f\"F1 Score: {f1:.4f}\")"
      ],
      "metadata": {
        "colab": {
          "base_uri": "https://localhost:8080/"
        },
        "id": "jFfWdMM1c2Mp",
        "outputId": "f7de9cc7-fe61-4037-fadf-7254fd5e0f06"
      },
      "execution_count": 28,
      "outputs": [
        {
          "output_type": "stream",
          "name": "stdout",
          "text": [
            "Validation Accuracy: 0.9434\n",
            "Precision: 0.9310\n",
            "Recall: 0.9643\n",
            "F1 Score: 0.9474\n"
          ]
        }
      ]
    },
    {
      "cell_type": "markdown",
      "source": [
        "## Confusion matrix and Classification Report"
      ],
      "metadata": {
        "id": "PnF7UhYbpTqU"
      }
    },
    {
      "cell_type": "code",
      "source": [
        "# 1️⃣ Confusion matrix\n",
        "cm = confusion_matrix(all_labels, all_preds)\n",
        "print(\"Confusion Matrix:\")\n",
        "print(cm)\n",
        "\n",
        "# 2️⃣ Classification report (precision, recall, f1-score)\n",
        "report = classification_report(all_labels, all_preds, target_names=[\"Non-Shoplifting\", \"Shoplifting\"])\n",
        "print(\"\\nClassification Report:\")\n",
        "print(report)"
      ],
      "metadata": {
        "colab": {
          "base_uri": "https://localhost:8080/"
        },
        "id": "uU6_-RoNc6l9",
        "outputId": "17620948-cda6-45ac-c053-dec096940e28"
      },
      "execution_count": 29,
      "outputs": [
        {
          "output_type": "stream",
          "name": "stdout",
          "text": [
            "Confusion Matrix:\n",
            "[[46  4]\n",
            " [ 2 54]]\n",
            "\n",
            "Classification Report:\n",
            "                 precision    recall  f1-score   support\n",
            "\n",
            "Non-Shoplifting       0.96      0.92      0.94        50\n",
            "    Shoplifting       0.93      0.96      0.95        56\n",
            "\n",
            "       accuracy                           0.94       106\n",
            "      macro avg       0.94      0.94      0.94       106\n",
            "   weighted avg       0.94      0.94      0.94       106\n",
            "\n"
          ]
        }
      ]
    },
    {
      "cell_type": "markdown",
      "source": [
        "## Plotting History"
      ],
      "metadata": {
        "id": "DhBVXJLrghR_"
      }
    },
    {
      "cell_type": "code",
      "source": [
        "import matplotlib.pyplot as plt\n",
        "\n",
        "def plot_continuous_history(histories, labels):\n",
        "    plt.figure(figsize=(14, 6))\n",
        "    start_epoch = 0\n",
        "\n",
        "    # ----- Plot Loss -----\n",
        "    plt.subplot(1, 2, 1)\n",
        "    for history, label in zip(histories, labels):\n",
        "        epochs = range(start_epoch, start_epoch + len(history[\"train_loss\"]))\n",
        "        plt.plot(epochs, history[\"train_loss\"], marker='o', label=f\"{label} Train Loss\")\n",
        "        plt.plot(epochs, history[\"val_loss\"], marker='x', label=f\"{label} Val Loss\")\n",
        "        start_epoch += len(history[\"train_loss\"])  # shift for next run\n",
        "    plt.title(\"Training and Validation Loss (Continuous Runs)\")\n",
        "    plt.xlabel(\"Epoch\")\n",
        "    plt.ylabel(\"Loss\")\n",
        "    plt.legend()\n",
        "    plt.grid(True)\n",
        "\n",
        "    # Reset start_epoch for accuracy plot\n",
        "    start_epoch = 0\n",
        "\n",
        "    # ----- Plot Accuracy -----\n",
        "    plt.subplot(1, 2, 2)\n",
        "    for history, label in zip(histories, labels):\n",
        "        epochs = range(start_epoch, start_epoch + len(history[\"train_acc\"]))\n",
        "        plt.plot(epochs, history[\"train_acc\"], marker='o', label=f\"{label} Train Acc\")\n",
        "        plt.plot(epochs, history[\"val_acc\"], marker='x', label=f\"{label} Val Acc\")\n",
        "        start_epoch += len(history[\"train_acc\"])\n",
        "    plt.title(\"Training and Validation Accuracy (Continuous Runs)\")\n",
        "    plt.xlabel(\"Epoch\")\n",
        "    plt.ylabel(\"Accuracy\")\n",
        "    plt.legend()\n",
        "    plt.grid(True)\n",
        "\n",
        "    plt.tight_layout()\n",
        "    plt.show()\n",
        "\n",
        "plot_continuous_history(\n",
        "    [history0, history1, history2, history3],\n",
        "    [\"Run1 lr = 1e-3\", \"Run2 lr = 1e-3\", \"Run3 lr = 1e-4\", \"Run4 lr = 1e-4\"]\n",
        ")"
      ],
      "metadata": {
        "colab": {
          "base_uri": "https://localhost:8080/",
          "height": 607
        },
        "id": "DyZBk_KBqHQp",
        "outputId": "824136ad-3474-4c47-d915-732b503d5f7d"
      },
      "execution_count": 30,
      "outputs": [
        {
          "output_type": "display_data",
          "data": {
            "text/plain": [
              "<Figure size 1400x600 with 2 Axes>"
            ],
            "image/png": "[encoded data removed]"
          },
          "metadata": {}
        }
      ]
    }
  ]
}